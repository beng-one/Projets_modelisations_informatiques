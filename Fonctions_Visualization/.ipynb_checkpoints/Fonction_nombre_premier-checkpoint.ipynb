{
 "cells": [
  {
   "cell_type": "code",
   "execution_count": 1,
   "id": "fd40aa9c-ba60-488a-aecb-1fb00c287273",
   "metadata": {},
   "outputs": [],
   "source": [
    "# Importer les librairies \n",
    "import matplotlib.pyplot as plt\n",
    "import numpy as np\n",
    "import pandas as pd\n",
    "import math\n",
    "from math import *\n",
    "import seaborn as sns\n",
    "from matplotlib import colormaps as cm"
   ]
  },
  {
   "attachments": {},
   "cell_type": "markdown",
   "id": "ad546b72-a3fd-4b49-975e-5df56a324a4a",
   "metadata": {},
   "source": [
    "$$\n",
    "f(x) = \\frac{1}{24}x^4 - \\frac{1}{12}x^3 + \\frac{1}{12}x^2 + \\frac{7}{12}x + 1\n",
    "$$"
   ]
  },
  {
   "cell_type": "code",
   "execution_count": 21,
   "id": "8c190ac2-ccf1-4134-a4b6-6657b2348ea1",
   "metadata": {},
   "outputs": [
    {
     "data": {
      "text/plain": [
       "2"
      ]
     },
     "execution_count": 21,
     "metadata": {},
     "output_type": "execute_result"
    }
   ],
   "source": [
    "# fonction \n",
    "\n",
    "    \n",
    "# test de la fonction\n",
    "fonction_nb_premier(1)\n",
    "\n"
   ]
  },
  {
   "cell_type": "code",
   "execution_count": 26,
   "id": "684186a4-058b-4426-9bbb-4a99a8af0f02",
   "metadata": {},
   "outputs": [
    {
     "ename": "IndentationError",
     "evalue": "expected an indented block after function definition on line 4 (3324724126.py, line 5)",
     "output_type": "error",
     "traceback": [
      "\u001b[1;36m  Cell \u001b[1;32mIn[26], line 5\u001b[1;36m\u001b[0m\n\u001b[1;33m    val = (1/24)*x**4 - (1/12)*x**3 + (11/24)*x**2 + (7/12)*x + 1\u001b[0m\n\u001b[1;37m    ^\u001b[0m\n\u001b[1;31mIndentationError\u001b[0m\u001b[1;31m:\u001b[0m expected an indented block after function definition on line 4\n"
     ]
    }
   ],
   "source": [
    "def fonction_nb_premier_List(List_init):\n",
    "\n",
    "    # Fonction appliquée à une valeur\n",
    "    def fonction_nb_premier_Val(x):\n",
    "    val = (1/24)*x**4 - (1/12)*x**3 + (11/24)*x**2 + (7/12)*x + 1\n",
    "    return round(val)\n",
    "\n",
    "    # Fonction appliqué à une listet\n",
    "    fonction_vectorisee = np.vectorize(fonction_nb_premier_Val)\n",
    "    List_final = fonction_vectorisee(List_init)\n",
    "\n",
    "    # resultats\n",
    "    return List_final"
   ]
  },
  {
   "cell_type": "code",
   "execution_count": 25,
   "id": "fa08206e-3080-4116-b0a0-0d47ac1cdd1c",
   "metadata": {},
   "outputs": [
    {
     "data": {
      "text/plain": [
       "array(16.)"
      ]
     },
     "execution_count": 25,
     "metadata": {},
     "output_type": "execute_result"
    }
   ],
   "source": [
    "# Test \n",
    "recurrent = [0, 1, 2, 3, 4]\n",
    "fonction_nb_premier(recurrent)"
   ]
  },
  {
   "cell_type": "code",
   "execution_count": null,
   "id": "0618e08b-a802-4e81-b301-b44c60062dbb",
   "metadata": {},
   "outputs": [],
   "source": []
  }
 ],
 "metadata": {
  "kernelspec": {
   "display_name": "Python 3 (ipykernel)",
   "language": "python",
   "name": "python3"
  },
  "language_info": {
   "codemirror_mode": {
    "name": "ipython",
    "version": 3
   },
   "file_extension": ".py",
   "mimetype": "text/x-python",
   "name": "python",
   "nbconvert_exporter": "python",
   "pygments_lexer": "ipython3",
   "version": "3.12.1"
  }
 },
 "nbformat": 4,
 "nbformat_minor": 5
}
