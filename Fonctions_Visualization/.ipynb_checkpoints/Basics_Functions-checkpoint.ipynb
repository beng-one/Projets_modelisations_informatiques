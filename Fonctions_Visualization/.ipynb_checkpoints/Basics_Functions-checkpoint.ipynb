{
 "cells": [
  {
   "cell_type": "code",
   "execution_count": 1,
   "id": "664345bf-2de3-4702-826d-1f45196057a7",
   "metadata": {},
   "outputs": [],
   "source": [
    "# Notebook pour les fonctions basiques"
   ]
  },
  {
   "cell_type": "code",
   "execution_count": null,
   "id": "26d624dc-dba6-4426-aae6-f02eee021894",
   "metadata": {},
   "outputs": [],
   "source": []
  }
 ],
 "metadata": {
  "kernelspec": {
   "display_name": "Python 3 (ipykernel)",
   "language": "python",
   "name": "python3"
  },
  "language_info": {
   "codemirror_mode": {
    "name": "ipython",
    "version": 3
   },
   "file_extension": ".py",
   "mimetype": "text/x-python",
   "name": "python",
   "nbconvert_exporter": "python",
   "pygments_lexer": "ipython3",
   "version": "3.12.1"
  }
 },
 "nbformat": 4,
 "nbformat_minor": 5
}
