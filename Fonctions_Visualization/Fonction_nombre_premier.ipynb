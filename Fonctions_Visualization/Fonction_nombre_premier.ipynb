{
 "cells": [
  {
   "cell_type": "code",
   "execution_count": 1,
   "id": "fd40aa9c-ba60-488a-aecb-1fb00c287273",
   "metadata": {},
   "outputs": [],
   "source": [
    "# Importer les librairies \n",
    "import matplotlib.pyplot as plt\n",
    "import numpy as np\n",
    "import pandas as pd\n",
    "import math\n",
    "from math import *\n",
    "import seaborn as sns\n",
    "from matplotlib import colormaps as cm"
   ]
  },
  {
   "attachments": {},
   "cell_type": "markdown",
   "id": "ad546b72-a3fd-4b49-975e-5df56a324a4a",
   "metadata": {},
   "source": [
    "$$\n",
    "f(x) = \\frac{1}{24}x^4 - \\frac{1}{12}x^3 + \\frac{1}{12}x^2 + \\frac{7}{12}x + 1\n",
    "$$"
   ]
  },
  {
   "cell_type": "code",
   "execution_count": 12,
   "id": "684186a4-058b-4426-9bbb-4a99a8af0f02",
   "metadata": {},
   "outputs": [],
   "source": [
    "def fct_nb_premier(List_init):\n",
    "    '''\n",
    "    Fonction utilisée à titre d'exemple pour illustrer l'importance d'établir par récurrence faible ou forte\n",
    "    toutes les conjonctures mathématiques même si ces dernières sont vraies pour les n premiers termes. \n",
    "    '''\n",
    "    List_final = []\n",
    "    for x, i in enumerate(List_init):\n",
    "        val_i = (1/24)*x**4 - (1/12)*x**3 + (11/24)*x**2 + (7/12)*x + 1\n",
    "        val_f = round(val_i)\n",
    "        List_final.append(val_f)\n",
    "    return List_final     "
   ]
  },
  {
   "cell_type": "code",
   "execution_count": 14,
   "id": "fa08206e-3080-4116-b0a0-0d47ac1cdd1c",
   "metadata": {},
   "outputs": [
    {
     "data": {
      "text/plain": [
       "[1, 2, 4, 8, 16, 31]"
      ]
     },
     "execution_count": 14,
     "metadata": {},
     "output_type": "execute_result"
    }
   ],
   "source": [
    "# Test \n",
    "test_list = [0, 1, 2, 3, 4, 5]\n",
    "fct_nb_premier(test_list)"
   ]
  },
  {
   "cell_type": "code",
   "execution_count": 15,
   "id": "0618e08b-a802-4e81-b301-b44c60062dbb",
   "metadata": {},
   "outputs": [
    {
     "data": {
      "text/plain": [
       "\u001b[1;31mSignature:\u001b[0m \u001b[0mfct_nb_premier\u001b[0m\u001b[1;33m(\u001b[0m\u001b[0mList_init\u001b[0m\u001b[1;33m)\u001b[0m\u001b[1;33m\u001b[0m\u001b[1;33m\u001b[0m\u001b[0m\n",
       "\u001b[1;31mDocstring:\u001b[0m\n",
       "Fonction utilisée à titre d'exemple pour illustrer l'importance d'établir par récurrence faible ou forte\n",
       "toutes les conjonctures mathématiques même si ces dernières sont vraies pour les n premiers termes. \n",
       "\u001b[1;31mFile:\u001b[0m      c:\\users\\lajoi\\appdata\\local\\temp\\ipykernel_14812\\1715753690.py\n",
       "\u001b[1;31mType:\u001b[0m      function"
      ]
     },
     "metadata": {},
     "output_type": "display_data"
    }
   ],
   "source": [
    "?fct_nb_premier"
   ]
  },
  {
   "cell_type": "code",
   "execution_count": null,
   "id": "d24953bb-66f8-4ee1-bff1-d0729e3a5852",
   "metadata": {},
   "outputs": [],
   "source": []
  }
 ],
 "metadata": {
  "kernelspec": {
   "display_name": "Python 3 (ipykernel)",
   "language": "python",
   "name": "python3"
  },
  "language_info": {
   "codemirror_mode": {
    "name": "ipython",
    "version": 3
   },
   "file_extension": ".py",
   "mimetype": "text/x-python",
   "name": "python",
   "nbconvert_exporter": "python",
   "pygments_lexer": "ipython3",
   "version": "3.12.1"
  }
 },
 "nbformat": 4,
 "nbformat_minor": 5
}
